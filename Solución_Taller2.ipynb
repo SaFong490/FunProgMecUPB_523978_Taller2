{
  "nbformat": 4,
  "nbformat_minor": 0,
  "metadata": {
    "colab": {
      "provenance": [],
      "authorship_tag": "ABX9TyOHtPT6VZOx2kZcmMqA7RHX",
      "include_colab_link": true
    },
    "kernelspec": {
      "name": "python3",
      "display_name": "Python 3"
    },
    "language_info": {
      "name": "python"
    }
  },
  "cells": [
    {
      "cell_type": "markdown",
      "metadata": {
        "id": "view-in-github",
        "colab_type": "text"
      },
      "source": [
        "<a href=\"https://colab.research.google.com/github/SaFong490/FunProgMecUPB_523978_Taller2/blob/main/Soluci%C3%B3n_Taller2.ipynb\" target=\"_parent\"><img src=\"https://colab.research.google.com/assets/colab-badge.svg\" alt=\"Open In Colab\"/></a>"
      ]
    },
    {
      "cell_type": "code",
      "execution_count": 1,
      "metadata": {
        "id": "YyqXHR19k0Rs"
      },
      "outputs": [],
      "source": []
    },
    {
      "cell_type": "markdown",
      "source": [
        "## Taller 2 \n",
        "## Fundamentos de Programación - Ingeniería Mecánica 2023_10\n",
        "\n",
        "> Estudiante: Samuel David Fong Ramos\n",
        "\n",
        ">ID: 000523978\n",
        "\n",
        ">e-mail: samuel.fong@upb.edu.co\n"
      ],
      "metadata": {
        "id": "fuUYy6jrl635"
      }
    },
    {
      "cell_type": "markdown",
      "source": [
        "#####1. Calcular y mostrar la posición de una partícula que experimenta movimiento uniformemente acelerado a partir de su posición inicial (𝑥0), velocidad inicial (𝑣0) y aceleración (𝑎) en dos instantes de tiempo diferentes."
      ],
      "metadata": {
        "id": "BTwJgAWRoriV"
      }
    },
    {
      "cell_type": "code",
      "source": [
        "\n",
        "x_0 = 3\n",
        "v_0 = 5\n",
        "a = 6\n",
        "\n",
        "#Para la posición 1 de la partícula en un tiempo 1 = 0 se tiene que:\n",
        "t_1 = 0 \n",
        "\n",
        "x_1 = x_0 + v_0 * t_1 + (a*t_1 ** 2)/2\n",
        "\n",
        "print(\"La posición de la partícula en un tiempo t_1 = 0 es\",x_1)\n",
        "\n",
        "#Del mismo modo, para la posición 2 de la partícula en un tiempo 2 = 5 se tiene que:\n",
        "t_2 = 5\n",
        "\n",
        "x_2 = x_0 + v_0 * t_2 + (a*t_2 ** 2)/2\n",
        "\n",
        "print(\"La posición de la partícula en un tiempo t_2 = 5 es\",x_2)"
      ],
      "metadata": {
        "colab": {
          "base_uri": "https://localhost:8080/"
        },
        "id": "vcI--MMxmxzf",
        "outputId": "72a20264-9c25-45cd-c253-e9fc96722e4a"
      },
      "execution_count": 15,
      "outputs": [
        {
          "output_type": "stream",
          "name": "stdout",
          "text": [
            "La posición de la partícula en un tiempo t_1 = 0 es 3.0\n",
            "La posición de la partícula en un tiempo t_2 = 5 es 103.0\n"
          ]
        }
      ]
    },
    {
      "cell_type": "markdown",
      "source": [
        "#####2. Calcular y mostrar la distancia entre dos puntos 𝑃1 y 𝑃2 ubicados en las coordenadas (𝑥1, 𝑦1) y (𝑥2, 𝑦2)."
      ],
      "metadata": {
        "id": "vo9aKCa4piIv"
      }
    },
    {
      "cell_type": "code",
      "source": [
        "#Para calcular la distancia d_1 entre los puntos (2,3) y (-5,4) se tiene:\n",
        "\n",
        "x_1 = 2\n",
        "y_1 = 3\n",
        "x_2 = -5\n",
        "y_2 = 4\n",
        "\n",
        "#Se toman las restas elevadas al cuadrado de cada variable como 2 factores distintos y luego se obtiene la raíz cuadrada de la suma de ambos factores:\n",
        "\n",
        "diferencia_de_x = (x_2 - x_1)**2\n",
        "diferencia_de_y = (y_2 - y_1)**2\n",
        "\n",
        "d_1 = (diferencia_de_x + diferencia_de_y)**0.5\n",
        "\n",
        "print(\"La distancia d_1 entre los puntos (2,3) y (-5,4) es\",d_1)\n",
        "\n",
        "#Del mismo modo se hace para los puntos (0,-2) y (6,1)\n",
        "\n",
        "x_1 = 0\n",
        "y_1 = -2\n",
        "x_2 = 6\n",
        "y_2 = 1\n",
        "\n",
        "diferencia_de_x = (x_2 - x_1)**2\n",
        "diferencia_de_y = (y_2 - y_1)**2\n",
        "\n",
        "d_2 = (diferencia_de_x + diferencia_de_y)**0.5\n",
        "\n",
        "print(\"La distancia d_2 entre los puntos (0,-2) y (6,1) es\",d_2)"
      ],
      "metadata": {
        "colab": {
          "base_uri": "https://localhost:8080/"
        },
        "id": "JO6_y56KpjkW",
        "outputId": "30a2ff41-6cb4-4144-ee98-5d93be9b0ed0"
      },
      "execution_count": 21,
      "outputs": [
        {
          "output_type": "stream",
          "name": "stdout",
          "text": [
            "La distancia d_1 entre los puntos (2,3) y (-5,4) es 7.0710678118654755\n",
            "La distancia d_2 entre los puntos (0,-2) y (6,1) es 6.708203932499369\n"
          ]
        }
      ]
    },
    {
      "cell_type": "markdown",
      "source": [
        "#####3. Imprime el resultado de las siguientes operaciones lógicas:\n",
        "- A > B\n",
        "- B <= C\n",
        "- A = B y B > C\n",
        "- A < C o B < C\n",
        "- C != B\n",
        "- A + D < C\n",
        "- D – C >= - A * B\n",
        "- D * C == 5 o C * A > 9\n",
        "- A * B + C > - D * 10\n",
        "- 4 * B == C * 3\n"
      ],
      "metadata": {
        "id": "XgGJTiBLrdXV"
      }
    },
    {
      "cell_type": "code",
      "source": [
        "#Se asignan los valores A = 5, B = 2, C = 3 y D = -2\n",
        "\n",
        "A = 5\n",
        "B = 2\n",
        "C = 3\n",
        "D = -2\n",
        "print(A > B)\n",
        "print(B >= C)\n",
        "print((A == B) and (B > C))\n",
        "print((A < C) or (B < C))\n",
        "print(C != B)\n",
        "print(A + D < C)\n",
        "print((D - C) >= -(A * B))\n",
        "print((D * C == 5) or (C * A > 9))\n",
        "print((A * B + C) > -(D * 10))\n",
        "print((4 * B) == (C * 3))"
      ],
      "metadata": {
        "colab": {
          "base_uri": "https://localhost:8080/"
        },
        "id": "UrflI28ircje",
        "outputId": "0af391b1-3876-448a-c339-fc978c19a849"
      },
      "execution_count": 69,
      "outputs": [
        {
          "output_type": "stream",
          "name": "stdout",
          "text": [
            "True\n",
            "False\n",
            "False\n",
            "True\n",
            "True\n",
            "False\n",
            "True\n",
            "True\n",
            "False\n",
            "False\n"
          ]
        }
      ]
    },
    {
      "cell_type": "code",
      "source": [],
      "metadata": {
        "id": "hSCr7711sx38"
      },
      "execution_count": null,
      "outputs": []
    }
  ]
}